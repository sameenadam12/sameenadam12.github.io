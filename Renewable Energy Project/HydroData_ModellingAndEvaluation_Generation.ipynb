{
 "cells": [
  {
   "cell_type": "code",
   "execution_count": 1,
   "metadata": {},
   "outputs": [],
   "source": [
    "import os\n",
    "import numpy as np\n",
    "import pandas as pd\n",
    "import matplotlib.pyplot as plt\n",
    "import tensorflow as tf"
   ]
  },
  {
   "cell_type": "code",
   "execution_count": 3,
   "metadata": {},
   "outputs": [
    {
     "name": "stdout",
     "output_type": "stream",
     "text": [
      "<class 'pandas._libs.tslibs.timestamps.Timestamp'>\n"
     ]
    },
    {
     "data": {
      "text/html": [
       "<div>\n",
       "<style scoped>\n",
       "    .dataframe tbody tr th:only-of-type {\n",
       "        vertical-align: middle;\n",
       "    }\n",
       "\n",
       "    .dataframe tbody tr th {\n",
       "        vertical-align: top;\n",
       "    }\n",
       "\n",
       "    .dataframe thead th {\n",
       "        text-align: right;\n",
       "    }\n",
       "</style>\n",
       "<table border=\"1\" class=\"dataframe\">\n",
       "  <thead>\n",
       "    <tr style=\"text-align: right;\">\n",
       "      <th></th>\n",
       "      <th>time</th>\n",
       "      <th>consumption</th>\n",
       "      <th>poundage</th>\n",
       "      <th>reservoir</th>\n",
       "      <th>temp</th>\n",
       "      <th>pressure</th>\n",
       "      <th>humidity</th>\n",
       "      <th>wind_speed</th>\n",
       "      <th>wind_deg</th>\n",
       "      <th>rain_1h</th>\n",
       "      <th>rain_3h</th>\n",
       "      <th>snow_3h</th>\n",
       "      <th>clouds_all</th>\n",
       "    </tr>\n",
       "  </thead>\n",
       "  <tbody>\n",
       "    <tr>\n",
       "      <th>0</th>\n",
       "      <td>2015-01-01 00:00:00</td>\n",
       "      <td>863.0</td>\n",
       "      <td>1051.0</td>\n",
       "      <td>1899.0</td>\n",
       "      <td>272.491463</td>\n",
       "      <td>1016.4</td>\n",
       "      <td>82.4</td>\n",
       "      <td>2.0</td>\n",
       "      <td>135.2</td>\n",
       "      <td>0.0</td>\n",
       "      <td>0.0</td>\n",
       "      <td>0.0</td>\n",
       "      <td>0.0</td>\n",
       "    </tr>\n",
       "    <tr>\n",
       "      <th>1</th>\n",
       "      <td>2015-01-01 01:00:00</td>\n",
       "      <td>920.0</td>\n",
       "      <td>1009.0</td>\n",
       "      <td>1658.0</td>\n",
       "      <td>272.512700</td>\n",
       "      <td>1016.2</td>\n",
       "      <td>82.4</td>\n",
       "      <td>2.0</td>\n",
       "      <td>135.8</td>\n",
       "      <td>0.0</td>\n",
       "      <td>0.0</td>\n",
       "      <td>0.0</td>\n",
       "      <td>0.0</td>\n",
       "    </tr>\n",
       "    <tr>\n",
       "      <th>2</th>\n",
       "      <td>2015-01-01 02:00:00</td>\n",
       "      <td>1164.0</td>\n",
       "      <td>973.0</td>\n",
       "      <td>1371.0</td>\n",
       "      <td>272.099137</td>\n",
       "      <td>1016.8</td>\n",
       "      <td>82.0</td>\n",
       "      <td>2.4</td>\n",
       "      <td>119.0</td>\n",
       "      <td>0.0</td>\n",
       "      <td>0.0</td>\n",
       "      <td>0.0</td>\n",
       "      <td>0.0</td>\n",
       "    </tr>\n",
       "    <tr>\n",
       "      <th>3</th>\n",
       "      <td>2015-01-01 03:00:00</td>\n",
       "      <td>1503.0</td>\n",
       "      <td>949.0</td>\n",
       "      <td>779.0</td>\n",
       "      <td>272.089469</td>\n",
       "      <td>1016.6</td>\n",
       "      <td>82.0</td>\n",
       "      <td>2.4</td>\n",
       "      <td>119.2</td>\n",
       "      <td>0.0</td>\n",
       "      <td>0.0</td>\n",
       "      <td>0.0</td>\n",
       "      <td>0.0</td>\n",
       "    </tr>\n",
       "    <tr>\n",
       "      <th>4</th>\n",
       "      <td>2015-01-01 04:00:00</td>\n",
       "      <td>1826.0</td>\n",
       "      <td>953.0</td>\n",
       "      <td>720.0</td>\n",
       "      <td>272.145900</td>\n",
       "      <td>1016.6</td>\n",
       "      <td>82.0</td>\n",
       "      <td>2.4</td>\n",
       "      <td>118.4</td>\n",
       "      <td>0.0</td>\n",
       "      <td>0.0</td>\n",
       "      <td>0.0</td>\n",
       "      <td>0.0</td>\n",
       "    </tr>\n",
       "  </tbody>\n",
       "</table>\n",
       "</div>"
      ],
      "text/plain": [
       "                 time  consumption  poundage  reservoir        temp  pressure   \n",
       "0 2015-01-01 00:00:00        863.0    1051.0     1899.0  272.491463    1016.4  \\\n",
       "1 2015-01-01 01:00:00        920.0    1009.0     1658.0  272.512700    1016.2   \n",
       "2 2015-01-01 02:00:00       1164.0     973.0     1371.0  272.099137    1016.8   \n",
       "3 2015-01-01 03:00:00       1503.0     949.0      779.0  272.089469    1016.6   \n",
       "4 2015-01-01 04:00:00       1826.0     953.0      720.0  272.145900    1016.6   \n",
       "\n",
       "   humidity  wind_speed  wind_deg  rain_1h  rain_3h  snow_3h  clouds_all  \n",
       "0      82.4         2.0     135.2      0.0      0.0      0.0         0.0  \n",
       "1      82.4         2.0     135.8      0.0      0.0      0.0         0.0  \n",
       "2      82.0         2.4     119.0      0.0      0.0      0.0         0.0  \n",
       "3      82.0         2.4     119.2      0.0      0.0      0.0         0.0  \n",
       "4      82.0         2.4     118.4      0.0      0.0      0.0         0.0  "
      ]
     },
     "execution_count": 3,
     "metadata": {},
     "output_type": "execute_result"
    }
   ],
   "source": [
    "df = pd.read_csv(\"HydroData_CleanedAndMerged.csv\")\n",
    "df.drop(columns=df.columns[0], axis=1, inplace=True)\n",
    "df.rename(columns={'generation hydro pumped storage consumption': 'consumption', 'generation hydro run-of-river and poundage': 'poundage', \n",
    "                   'generation hydro water reservoir': 'reservoir'}, inplace=True)\n",
    "\n",
    "from datetime import datetime\n",
    "df['time'] = [datetime.strptime(dt[:-6], '%Y-%m-%d %H:%M:%S') for dt in df['time']]\n",
    "print(type(df['time'][0]))\n",
    "\n",
    "df.head()\n",
    "# df.tail()"
   ]
  },
  {
   "cell_type": "code",
   "execution_count": 5,
   "metadata": {},
   "outputs": [
    {
     "data": {
      "text/html": [
       "<div>\n",
       "<style scoped>\n",
       "    .dataframe tbody tr th:only-of-type {\n",
       "        vertical-align: middle;\n",
       "    }\n",
       "\n",
       "    .dataframe tbody tr th {\n",
       "        vertical-align: top;\n",
       "    }\n",
       "\n",
       "    .dataframe thead th {\n",
       "        text-align: right;\n",
       "    }\n",
       "</style>\n",
       "<table border=\"1\" class=\"dataframe\">\n",
       "  <thead>\n",
       "    <tr style=\"text-align: right;\">\n",
       "      <th></th>\n",
       "      <th>time</th>\n",
       "      <th>consumption</th>\n",
       "      <th>poundage</th>\n",
       "      <th>reservoir</th>\n",
       "      <th>rain_1h</th>\n",
       "      <th>rain_3h</th>\n",
       "      <th>snow_3h</th>\n",
       "      <th>clouds_all</th>\n",
       "      <th>temp</th>\n",
       "      <th>pressure</th>\n",
       "      <th>humidity</th>\n",
       "      <th>wind_speed</th>\n",
       "      <th>wind_deg</th>\n",
       "      <th>generation</th>\n",
       "    </tr>\n",
       "  </thead>\n",
       "  <tbody>\n",
       "    <tr>\n",
       "      <th>0</th>\n",
       "      <td>2015-01-01</td>\n",
       "      <td>25690.0</td>\n",
       "      <td>25149.0</td>\n",
       "      <td>52005.0</td>\n",
       "      <td>0.00</td>\n",
       "      <td>0.0</td>\n",
       "      <td>0.0</td>\n",
       "      <td>18.4</td>\n",
       "      <td>275.423900</td>\n",
       "      <td>1021.991667</td>\n",
       "      <td>75.391667</td>\n",
       "      <td>1.950000</td>\n",
       "      <td>181.600000</td>\n",
       "      <td>77154.0</td>\n",
       "    </tr>\n",
       "    <tr>\n",
       "      <th>1</th>\n",
       "      <td>2015-01-02</td>\n",
       "      <td>37048.0</td>\n",
       "      <td>31045.0</td>\n",
       "      <td>89159.0</td>\n",
       "      <td>0.00</td>\n",
       "      <td>0.0</td>\n",
       "      <td>0.0</td>\n",
       "      <td>143.4</td>\n",
       "      <td>276.434500</td>\n",
       "      <td>1024.441667</td>\n",
       "      <td>77.833333</td>\n",
       "      <td>1.575000</td>\n",
       "      <td>214.408333</td>\n",
       "      <td>120204.0</td>\n",
       "    </tr>\n",
       "    <tr>\n",
       "      <th>2</th>\n",
       "      <td>2015-01-03</td>\n",
       "      <td>32123.0</td>\n",
       "      <td>32994.0</td>\n",
       "      <td>95266.0</td>\n",
       "      <td>0.00</td>\n",
       "      <td>0.0</td>\n",
       "      <td>0.0</td>\n",
       "      <td>54.8</td>\n",
       "      <td>276.941384</td>\n",
       "      <td>1020.741667</td>\n",
       "      <td>78.591667</td>\n",
       "      <td>1.575000</td>\n",
       "      <td>191.033333</td>\n",
       "      <td>128260.0</td>\n",
       "    </tr>\n",
       "    <tr>\n",
       "      <th>3</th>\n",
       "      <td>2015-01-04</td>\n",
       "      <td>14160.0</td>\n",
       "      <td>35886.0</td>\n",
       "      <td>77792.0</td>\n",
       "      <td>1.02</td>\n",
       "      <td>0.0</td>\n",
       "      <td>0.0</td>\n",
       "      <td>274.4</td>\n",
       "      <td>278.064019</td>\n",
       "      <td>1015.858333</td>\n",
       "      <td>76.766667</td>\n",
       "      <td>1.258333</td>\n",
       "      <td>156.408333</td>\n",
       "      <td>113678.0</td>\n",
       "    </tr>\n",
       "    <tr>\n",
       "      <th>4</th>\n",
       "      <td>2015-01-05</td>\n",
       "      <td>19747.0</td>\n",
       "      <td>19814.0</td>\n",
       "      <td>43206.0</td>\n",
       "      <td>0.30</td>\n",
       "      <td>0.0</td>\n",
       "      <td>0.0</td>\n",
       "      <td>427.6</td>\n",
       "      <td>277.911800</td>\n",
       "      <td>1014.508333</td>\n",
       "      <td>81.158333</td>\n",
       "      <td>1.150000</td>\n",
       "      <td>174.300000</td>\n",
       "      <td>63020.0</td>\n",
       "    </tr>\n",
       "  </tbody>\n",
       "</table>\n",
       "</div>"
      ],
      "text/plain": [
       "        time  consumption  poundage  reservoir  rain_1h  rain_3h  snow_3h   \n",
       "0 2015-01-01      25690.0   25149.0    52005.0     0.00      0.0      0.0  \\\n",
       "1 2015-01-02      37048.0   31045.0    89159.0     0.00      0.0      0.0   \n",
       "2 2015-01-03      32123.0   32994.0    95266.0     0.00      0.0      0.0   \n",
       "3 2015-01-04      14160.0   35886.0    77792.0     1.02      0.0      0.0   \n",
       "4 2015-01-05      19747.0   19814.0    43206.0     0.30      0.0      0.0   \n",
       "\n",
       "   clouds_all        temp     pressure   humidity  wind_speed    wind_deg   \n",
       "0        18.4  275.423900  1021.991667  75.391667    1.950000  181.600000  \\\n",
       "1       143.4  276.434500  1024.441667  77.833333    1.575000  214.408333   \n",
       "2        54.8  276.941384  1020.741667  78.591667    1.575000  191.033333   \n",
       "3       274.4  278.064019  1015.858333  76.766667    1.258333  156.408333   \n",
       "4       427.6  277.911800  1014.508333  81.158333    1.150000  174.300000   \n",
       "\n",
       "   generation  \n",
       "0     77154.0  \n",
       "1    120204.0  \n",
       "2    128260.0  \n",
       "3    113678.0  \n",
       "4     63020.0  "
      ]
     },
     "execution_count": 5,
     "metadata": {},
     "output_type": "execute_result"
    }
   ],
   "source": [
    "grouped_data = df.groupby(pd.Grouper(key='time', freq='D'))#.sum()\n",
    "result = grouped_data[['consumption', 'poundage', 'reservoir', 'rain_1h', 'rain_3h', 'snow_3h', 'clouds_all']].sum()\n",
    "result['temp'] = grouped_data['temp'].median()\n",
    "result['pressure'] = grouped_data['pressure'].mean()\n",
    "result['humidity'] = grouped_data['humidity'].mean()\n",
    "result['wind_speed'] = grouped_data['wind_speed'].mean()\n",
    "result['wind_deg'] = grouped_data['wind_deg'].mean()\n",
    "\n",
    "result['generation'] = result['poundage'] + result['reservoir']\n",
    "\n",
    "result.reset_index(inplace=True)\n",
    "result.head()"
   ]
  },
  {
   "cell_type": "code",
   "execution_count": 11,
   "metadata": {},
   "outputs": [
    {
     "name": "stdout",
     "output_type": "stream",
     "text": [
      "(292, 8)\n",
      "(292, 1)\n",
      "(1169, 8)\n",
      "(1169, 1)\n"
     ]
    }
   ],
   "source": [
    "# Separate Target Variable and Predictor Variables\n",
    "TargetVariable=['generation']\n",
    "Predictors=['rain_3h', 'snow_3h', 'clouds_all', 'temp', 'pressure', 'humidity', 'wind_speed', 'wind_deg']\n",
    "\n",
    "X=result[Predictors].values\n",
    "y=result[TargetVariable].values\n",
    "\n",
    "### Sandardization of data ###\n",
    "from sklearn.preprocessing import StandardScaler\n",
    "PredictorScaler=StandardScaler()\n",
    "TargetVarScaler=StandardScaler()\n",
    "\n",
    "# Storing the fit object for later reference\n",
    "PredictorScalerFit=PredictorScaler.fit(X)\n",
    "TargetVarScalerFit=TargetVarScaler.fit(y)\n",
    "\n",
    "# Generating the standardized values of X and y\n",
    "X=PredictorScalerFit.transform(X)\n",
    "y=TargetVarScalerFit.transform(y)\n",
    "\n",
    "# Split the data into training and testing set\n",
    "from sklearn.model_selection import train_test_split\n",
    "X_train, X_test, y_train, y_test = train_test_split(X, y, test_size=0.8, random_state=42)\n",
    "\n",
    "# Quick sanity check with the shapes of Training and testing datasets\n",
    "print(X_train.shape)\n",
    "print(y_train.shape)\n",
    "print(X_test.shape)\n",
    "print(y_test.shape)"
   ]
  },
  {
   "cell_type": "code",
   "execution_count": 86,
   "metadata": {},
   "outputs": [
    {
     "name": "stderr",
     "output_type": "stream",
     "text": [
      "c:\\Users\\raosh\\AppData\\Local\\Programs\\Python\\Python311\\Lib\\site-packages\\keras\\src\\layers\\core\\dense.py:86: UserWarning: Do not pass an `input_shape`/`input_dim` argument to a layer. When using Sequential models, prefer using an `Input(shape)` object as the first layer in the model instead.\n",
      "  super().__init__(activity_regularizer=activity_regularizer, **kwargs)\n"
     ]
    },
    {
     "data": {
      "text/html": [
       "<pre style=\"white-space:pre;overflow-x:auto;line-height:normal;font-family:Menlo,'DejaVu Sans Mono',consolas,'Courier New',monospace\"><span style=\"font-weight: bold\">Model: \"sequential_14\"</span>\n",
       "</pre>\n"
      ],
      "text/plain": [
       "\u001b[1mModel: \"sequential_14\"\u001b[0m\n"
      ]
     },
     "metadata": {},
     "output_type": "display_data"
    },
    {
     "data": {
      "text/html": [
       "<pre style=\"white-space:pre;overflow-x:auto;line-height:normal;font-family:Menlo,'DejaVu Sans Mono',consolas,'Courier New',monospace\">┏━━━━━━━━━━━━━━━━━━━━━━━━━━━━━━━━━┳━━━━━━━━━━━━━━━━━━━━━━━━┳━━━━━━━━━━━━━━━┓\n",
       "┃<span style=\"font-weight: bold\"> Layer (type)                    </span>┃<span style=\"font-weight: bold\"> Output Shape           </span>┃<span style=\"font-weight: bold\">       Param # </span>┃\n",
       "┡━━━━━━━━━━━━━━━━━━━━━━━━━━━━━━━━━╇━━━━━━━━━━━━━━━━━━━━━━━━╇━━━━━━━━━━━━━━━┩\n",
       "│ dense_76 (<span style=\"color: #0087ff; text-decoration-color: #0087ff\">Dense</span>)                │ (<span style=\"color: #00d7ff; text-decoration-color: #00d7ff\">None</span>, <span style=\"color: #00af00; text-decoration-color: #00af00\">8</span>)              │            <span style=\"color: #00af00; text-decoration-color: #00af00\">72</span> │\n",
       "├─────────────────────────────────┼────────────────────────┼───────────────┤\n",
       "│ dense_77 (<span style=\"color: #0087ff; text-decoration-color: #0087ff\">Dense</span>)                │ (<span style=\"color: #00d7ff; text-decoration-color: #00d7ff\">None</span>, <span style=\"color: #00af00; text-decoration-color: #00af00\">16</span>)             │           <span style=\"color: #00af00; text-decoration-color: #00af00\">144</span> │\n",
       "├─────────────────────────────────┼────────────────────────┼───────────────┤\n",
       "│ dense_78 (<span style=\"color: #0087ff; text-decoration-color: #0087ff\">Dense</span>)                │ (<span style=\"color: #00d7ff; text-decoration-color: #00d7ff\">None</span>, <span style=\"color: #00af00; text-decoration-color: #00af00\">32</span>)             │           <span style=\"color: #00af00; text-decoration-color: #00af00\">544</span> │\n",
       "├─────────────────────────────────┼────────────────────────┼───────────────┤\n",
       "│ dense_79 (<span style=\"color: #0087ff; text-decoration-color: #0087ff\">Dense</span>)                │ (<span style=\"color: #00d7ff; text-decoration-color: #00d7ff\">None</span>, <span style=\"color: #00af00; text-decoration-color: #00af00\">16</span>)             │           <span style=\"color: #00af00; text-decoration-color: #00af00\">528</span> │\n",
       "├─────────────────────────────────┼────────────────────────┼───────────────┤\n",
       "│ dense_80 (<span style=\"color: #0087ff; text-decoration-color: #0087ff\">Dense</span>)                │ (<span style=\"color: #00d7ff; text-decoration-color: #00d7ff\">None</span>, <span style=\"color: #00af00; text-decoration-color: #00af00\">1</span>)              │            <span style=\"color: #00af00; text-decoration-color: #00af00\">17</span> │\n",
       "└─────────────────────────────────┴────────────────────────┴───────────────┘\n",
       "</pre>\n"
      ],
      "text/plain": [
       "┏━━━━━━━━━━━━━━━━━━━━━━━━━━━━━━━━━┳━━━━━━━━━━━━━━━━━━━━━━━━┳━━━━━━━━━━━━━━━┓\n",
       "┃\u001b[1m \u001b[0m\u001b[1mLayer (type)                   \u001b[0m\u001b[1m \u001b[0m┃\u001b[1m \u001b[0m\u001b[1mOutput Shape          \u001b[0m\u001b[1m \u001b[0m┃\u001b[1m \u001b[0m\u001b[1m      Param #\u001b[0m\u001b[1m \u001b[0m┃\n",
       "┡━━━━━━━━━━━━━━━━━━━━━━━━━━━━━━━━━╇━━━━━━━━━━━━━━━━━━━━━━━━╇━━━━━━━━━━━━━━━┩\n",
       "│ dense_76 (\u001b[38;5;33mDense\u001b[0m)                │ (\u001b[38;5;45mNone\u001b[0m, \u001b[38;5;34m8\u001b[0m)              │            \u001b[38;5;34m72\u001b[0m │\n",
       "├─────────────────────────────────┼────────────────────────┼───────────────┤\n",
       "│ dense_77 (\u001b[38;5;33mDense\u001b[0m)                │ (\u001b[38;5;45mNone\u001b[0m, \u001b[38;5;34m16\u001b[0m)             │           \u001b[38;5;34m144\u001b[0m │\n",
       "├─────────────────────────────────┼────────────────────────┼───────────────┤\n",
       "│ dense_78 (\u001b[38;5;33mDense\u001b[0m)                │ (\u001b[38;5;45mNone\u001b[0m, \u001b[38;5;34m32\u001b[0m)             │           \u001b[38;5;34m544\u001b[0m │\n",
       "├─────────────────────────────────┼────────────────────────┼───────────────┤\n",
       "│ dense_79 (\u001b[38;5;33mDense\u001b[0m)                │ (\u001b[38;5;45mNone\u001b[0m, \u001b[38;5;34m16\u001b[0m)             │           \u001b[38;5;34m528\u001b[0m │\n",
       "├─────────────────────────────────┼────────────────────────┼───────────────┤\n",
       "│ dense_80 (\u001b[38;5;33mDense\u001b[0m)                │ (\u001b[38;5;45mNone\u001b[0m, \u001b[38;5;34m1\u001b[0m)              │            \u001b[38;5;34m17\u001b[0m │\n",
       "└─────────────────────────────────┴────────────────────────┴───────────────┘\n"
      ]
     },
     "metadata": {},
     "output_type": "display_data"
    },
    {
     "data": {
      "text/html": [
       "<pre style=\"white-space:pre;overflow-x:auto;line-height:normal;font-family:Menlo,'DejaVu Sans Mono',consolas,'Courier New',monospace\"><span style=\"font-weight: bold\"> Total params: </span><span style=\"color: #00af00; text-decoration-color: #00af00\">1,305</span> (5.10 KB)\n",
       "</pre>\n"
      ],
      "text/plain": [
       "\u001b[1m Total params: \u001b[0m\u001b[38;5;34m1,305\u001b[0m (5.10 KB)\n"
      ]
     },
     "metadata": {},
     "output_type": "display_data"
    },
    {
     "data": {
      "text/html": [
       "<pre style=\"white-space:pre;overflow-x:auto;line-height:normal;font-family:Menlo,'DejaVu Sans Mono',consolas,'Courier New',monospace\"><span style=\"font-weight: bold\"> Trainable params: </span><span style=\"color: #00af00; text-decoration-color: #00af00\">1,305</span> (5.10 KB)\n",
       "</pre>\n"
      ],
      "text/plain": [
       "\u001b[1m Trainable params: \u001b[0m\u001b[38;5;34m1,305\u001b[0m (5.10 KB)\n"
      ]
     },
     "metadata": {},
     "output_type": "display_data"
    },
    {
     "data": {
      "text/html": [
       "<pre style=\"white-space:pre;overflow-x:auto;line-height:normal;font-family:Menlo,'DejaVu Sans Mono',consolas,'Courier New',monospace\"><span style=\"font-weight: bold\"> Non-trainable params: </span><span style=\"color: #00af00; text-decoration-color: #00af00\">0</span> (0.00 B)\n",
       "</pre>\n"
      ],
      "text/plain": [
       "\u001b[1m Non-trainable params: \u001b[0m\u001b[38;5;34m0\u001b[0m (0.00 B)\n"
      ]
     },
     "metadata": {},
     "output_type": "display_data"
    }
   ],
   "source": [
    "# importing the libraries\n",
    "from keras.models import Sequential\n",
    "from keras.layers import Dense\n",
    "\n",
    "# create ANN model\n",
    "model = Sequential()\n",
    "\n",
    "# Defining the Input layer and FIRST hidden layer, both are same!\n",
    "model.add(Dense(units=8, input_dim=8, kernel_initializer='normal', activation='relu'))\n",
    "\n",
    "# Defining the Second layer of the model\n",
    "# after the first layer we don't have to specify input_dim as keras configure it automatically\n",
    "model.add(Dense(units=16, kernel_initializer='normal', activation='tanh'))\n",
    "\n",
    "# model.add(Dense(units=32, kernel_initializer='normal', activation='tanh'))\n",
    "\n",
    "model.add(Dense(units=32, kernel_initializer='normal', activation='tanh'))\n",
    "\n",
    "# model.add(Dense(units=32, kernel_initializer='normal', activation='tanh'))\n",
    "\n",
    "model.add(Dense(units=16, kernel_initializer='normal', activation='tanh'))\n",
    "\n",
    "# The output neuron is a single fully connected node \n",
    "# Since we will be predicting a single number\n",
    "model.add(Dense(1, kernel_initializer='normal'))\n",
    "\n",
    "# Compiling the model\n",
    "# model.compile(loss='mean_squared_error', optimizer='adam')\n",
    "model.compile(optimizer = 'adam', loss = 'mean_squared_error',metrics=['MeanSquaredLogarithmicError'])\n",
    "\n",
    "model.summary()"
   ]
  },
  {
   "cell_type": "code",
   "execution_count": 87,
   "metadata": {},
   "outputs": [
    {
     "name": "stdout",
     "output_type": "stream",
     "text": [
      "Epoch 1/100\n"
     ]
    },
    {
     "name": "stdout",
     "output_type": "stream",
     "text": [
      "\u001b[1m37/37\u001b[0m \u001b[32m━━━━━━━━━━━━━━━━━━━━\u001b[0m\u001b[37m\u001b[0m \u001b[1m1s\u001b[0m 7ms/step - MeanSquaredLogarithmicError: 0.2098 - loss: 0.9501 - val_MeanSquaredLogarithmicError: 0.2087 - val_loss: 1.0035\n",
      "Epoch 2/100\n",
      "\u001b[1m37/37\u001b[0m \u001b[32m━━━━━━━━━━━━━━━━━━━━\u001b[0m\u001b[37m\u001b[0m \u001b[1m0s\u001b[0m 4ms/step - MeanSquaredLogarithmicError: 0.2123 - loss: 0.9916 - val_MeanSquaredLogarithmicError: 0.2088 - val_loss: 1.0027\n",
      "Epoch 3/100\n",
      "\u001b[1m37/37\u001b[0m \u001b[32m━━━━━━━━━━━━━━━━━━━━\u001b[0m\u001b[37m\u001b[0m \u001b[1m0s\u001b[0m 4ms/step - MeanSquaredLogarithmicError: 0.2001 - loss: 0.9958 - val_MeanSquaredLogarithmicError: 0.1977 - val_loss: 0.9823\n",
      "Epoch 4/100\n",
      "\u001b[1m37/37\u001b[0m \u001b[32m━━━━━━━━━━━━━━━━━━━━\u001b[0m\u001b[37m\u001b[0m \u001b[1m0s\u001b[0m 4ms/step - MeanSquaredLogarithmicError: 0.1864 - loss: 0.9963 - val_MeanSquaredLogarithmicError: 0.1740 - val_loss: 0.9489\n",
      "Epoch 5/100\n",
      "\u001b[1m37/37\u001b[0m \u001b[32m━━━━━━━━━━━━━━━━━━━━\u001b[0m\u001b[37m\u001b[0m \u001b[1m0s\u001b[0m 4ms/step - MeanSquaredLogarithmicError: 0.1900 - loss: 0.9744 - val_MeanSquaredLogarithmicError: 0.1653 - val_loss: 0.9504\n",
      "Epoch 6/100\n",
      "\u001b[1m37/37\u001b[0m \u001b[32m━━━━━━━━━━━━━━━━━━━━\u001b[0m\u001b[37m\u001b[0m \u001b[1m0s\u001b[0m 4ms/step - MeanSquaredLogarithmicError: 0.1730 - loss: 0.9430 - val_MeanSquaredLogarithmicError: 0.1659 - val_loss: 0.9504\n",
      "Epoch 7/100\n",
      "\u001b[1m37/37\u001b[0m \u001b[32m━━━━━━━━━━━━━━━━━━━━\u001b[0m\u001b[37m\u001b[0m \u001b[1m0s\u001b[0m 5ms/step - MeanSquaredLogarithmicError: 0.1552 - loss: 0.8509 - val_MeanSquaredLogarithmicError: 0.1646 - val_loss: 0.9531\n",
      "Epoch 8/100\n",
      "\u001b[1m37/37\u001b[0m \u001b[32m━━━━━━━━━━━━━━━━━━━━\u001b[0m\u001b[37m\u001b[0m \u001b[1m0s\u001b[0m 5ms/step - MeanSquaredLogarithmicError: 0.1554 - loss: 0.8525 - val_MeanSquaredLogarithmicError: 0.1661 - val_loss: 0.9547\n",
      "Epoch 9/100\n",
      "\u001b[1m37/37\u001b[0m \u001b[32m━━━━━━━━━━━━━━━━━━━━\u001b[0m\u001b[37m\u001b[0m \u001b[1m0s\u001b[0m 5ms/step - MeanSquaredLogarithmicError: 0.1856 - loss: 0.9391 - val_MeanSquaredLogarithmicError: 0.1657 - val_loss: 0.9553\n",
      "Epoch 10/100\n",
      "\u001b[1m37/37\u001b[0m \u001b[32m━━━━━━━━━━━━━━━━━━━━\u001b[0m\u001b[37m\u001b[0m \u001b[1m0s\u001b[0m 4ms/step - MeanSquaredLogarithmicError: 0.1767 - loss: 0.9246 - val_MeanSquaredLogarithmicError: 0.1656 - val_loss: 0.9552\n",
      "Epoch 11/100\n",
      "\u001b[1m37/37\u001b[0m \u001b[32m━━━━━━━━━━━━━━━━━━━━\u001b[0m\u001b[37m\u001b[0m \u001b[1m0s\u001b[0m 4ms/step - MeanSquaredLogarithmicError: 0.1718 - loss: 0.8646 - val_MeanSquaredLogarithmicError: 0.1670 - val_loss: 0.9579\n",
      "Epoch 12/100\n",
      "\u001b[1m37/37\u001b[0m \u001b[32m━━━━━━━━━━━━━━━━━━━━\u001b[0m\u001b[37m\u001b[0m \u001b[1m0s\u001b[0m 4ms/step - MeanSquaredLogarithmicError: 0.1972 - loss: 0.9597 - val_MeanSquaredLogarithmicError: 0.1668 - val_loss: 0.9549\n",
      "Epoch 13/100\n",
      "\u001b[1m37/37\u001b[0m \u001b[32m━━━━━━━━━━━━━━━━━━━━\u001b[0m\u001b[37m\u001b[0m \u001b[1m0s\u001b[0m 4ms/step - MeanSquaredLogarithmicError: 0.1817 - loss: 0.9125 - val_MeanSquaredLogarithmicError: 0.1687 - val_loss: 0.9558\n",
      "Epoch 14/100\n",
      "\u001b[1m37/37\u001b[0m \u001b[32m━━━━━━━━━━━━━━━━━━━━\u001b[0m\u001b[37m\u001b[0m \u001b[1m0s\u001b[0m 4ms/step - MeanSquaredLogarithmicError: 0.1822 - loss: 0.9180 - val_MeanSquaredLogarithmicError: 0.1652 - val_loss: 0.9607\n",
      "Epoch 15/100\n",
      "\u001b[1m37/37\u001b[0m \u001b[32m━━━━━━━━━━━━━━━━━━━━\u001b[0m\u001b[37m\u001b[0m \u001b[1m0s\u001b[0m 4ms/step - MeanSquaredLogarithmicError: 0.1689 - loss: 0.8984 - val_MeanSquaredLogarithmicError: 0.1674 - val_loss: 0.9540\n",
      "Epoch 16/100\n",
      "\u001b[1m37/37\u001b[0m \u001b[32m━━━━━━━━━━━━━━━━━━━━\u001b[0m\u001b[37m\u001b[0m \u001b[1m0s\u001b[0m 4ms/step - MeanSquaredLogarithmicError: 0.1735 - loss: 0.8951 - val_MeanSquaredLogarithmicError: 0.1677 - val_loss: 0.9580\n",
      "Epoch 17/100\n",
      "\u001b[1m37/37\u001b[0m \u001b[32m━━━━━━━━━━━━━━━━━━━━\u001b[0m\u001b[37m\u001b[0m \u001b[1m0s\u001b[0m 5ms/step - MeanSquaredLogarithmicError: 0.1673 - loss: 0.8374 - val_MeanSquaredLogarithmicError: 0.1651 - val_loss: 0.9639\n",
      "Epoch 18/100\n",
      "\u001b[1m37/37\u001b[0m \u001b[32m━━━━━━━━━━━━━━━━━━━━\u001b[0m\u001b[37m\u001b[0m \u001b[1m0s\u001b[0m 3ms/step - MeanSquaredLogarithmicError: 0.1548 - loss: 0.8482 - val_MeanSquaredLogarithmicError: 0.1654 - val_loss: 0.9614\n",
      "Epoch 19/100\n",
      "\u001b[1m37/37\u001b[0m \u001b[32m━━━━━━━━━━━━━━━━━━━━\u001b[0m\u001b[37m\u001b[0m \u001b[1m0s\u001b[0m 3ms/step - MeanSquaredLogarithmicError: 0.1776 - loss: 0.9227 - val_MeanSquaredLogarithmicError: 0.1659 - val_loss: 0.9590\n",
      "Epoch 20/100\n",
      "\u001b[1m37/37\u001b[0m \u001b[32m━━━━━━━━━━━━━━━━━━━━\u001b[0m\u001b[37m\u001b[0m \u001b[1m0s\u001b[0m 3ms/step - MeanSquaredLogarithmicError: 0.1787 - loss: 0.9313 - val_MeanSquaredLogarithmicError: 0.1672 - val_loss: 0.9641\n",
      "Epoch 21/100\n",
      "\u001b[1m37/37\u001b[0m \u001b[32m━━━━━━━━━━━━━━━━━━━━\u001b[0m\u001b[37m\u001b[0m \u001b[1m0s\u001b[0m 4ms/step - MeanSquaredLogarithmicError: 0.1675 - loss: 0.8782 - val_MeanSquaredLogarithmicError: 0.1693 - val_loss: 0.9664\n",
      "Epoch 22/100\n",
      "\u001b[1m37/37\u001b[0m \u001b[32m━━━━━━━━━━━━━━━━━━━━\u001b[0m\u001b[37m\u001b[0m \u001b[1m0s\u001b[0m 4ms/step - MeanSquaredLogarithmicError: 0.1668 - loss: 0.8621 - val_MeanSquaredLogarithmicError: 0.1662 - val_loss: 0.9585\n",
      "Epoch 23/100\n",
      "\u001b[1m37/37\u001b[0m \u001b[32m━━━━━━━━━━━━━━━━━━━━\u001b[0m\u001b[37m\u001b[0m \u001b[1m0s\u001b[0m 4ms/step - MeanSquaredLogarithmicError: 0.1828 - loss: 0.9530 - val_MeanSquaredLogarithmicError: 0.1678 - val_loss: 0.9619\n",
      "Epoch 24/100\n",
      "\u001b[1m37/37\u001b[0m \u001b[32m━━━━━━━━━━━━━━━━━━━━\u001b[0m\u001b[37m\u001b[0m \u001b[1m0s\u001b[0m 4ms/step - MeanSquaredLogarithmicError: 0.1971 - loss: 0.9928 - val_MeanSquaredLogarithmicError: 0.1674 - val_loss: 0.9578\n",
      "Epoch 25/100\n",
      "\u001b[1m37/37\u001b[0m \u001b[32m━━━━━━━━━━━━━━━━━━━━\u001b[0m\u001b[37m\u001b[0m \u001b[1m0s\u001b[0m 3ms/step - MeanSquaredLogarithmicError: 0.1882 - loss: 0.9410 - val_MeanSquaredLogarithmicError: 0.1657 - val_loss: 0.9623\n",
      "Epoch 26/100\n",
      "\u001b[1m37/37\u001b[0m \u001b[32m━━━━━━━━━━━━━━━━━━━━\u001b[0m\u001b[37m\u001b[0m \u001b[1m0s\u001b[0m 3ms/step - MeanSquaredLogarithmicError: 0.1937 - loss: 0.9541 - val_MeanSquaredLogarithmicError: 0.1670 - val_loss: 0.9595\n",
      "Epoch 27/100\n",
      "\u001b[1m37/37\u001b[0m \u001b[32m━━━━━━━━━━━━━━━━━━━━\u001b[0m\u001b[37m\u001b[0m \u001b[1m0s\u001b[0m 4ms/step - MeanSquaredLogarithmicError: 0.1782 - loss: 0.9282 - val_MeanSquaredLogarithmicError: 0.1662 - val_loss: 0.9570\n",
      "Epoch 28/100\n",
      "\u001b[1m37/37\u001b[0m \u001b[32m━━━━━━━━━━━━━━━━━━━━\u001b[0m\u001b[37m\u001b[0m \u001b[1m0s\u001b[0m 4ms/step - MeanSquaredLogarithmicError: 0.1487 - loss: 0.7809 - val_MeanSquaredLogarithmicError: 0.1639 - val_loss: 0.9512\n",
      "Epoch 29/100\n",
      "\u001b[1m37/37\u001b[0m \u001b[32m━━━━━━━━━━━━━━━━━━━━\u001b[0m\u001b[37m\u001b[0m \u001b[1m0s\u001b[0m 3ms/step - MeanSquaredLogarithmicError: 0.1286 - loss: 0.7327 - val_MeanSquaredLogarithmicError: 0.1626 - val_loss: 0.9518\n",
      "Epoch 30/100\n",
      "\u001b[1m37/37\u001b[0m \u001b[32m━━━━━━━━━━━━━━━━━━━━\u001b[0m\u001b[37m\u001b[0m \u001b[1m0s\u001b[0m 3ms/step - MeanSquaredLogarithmicError: 0.1405 - loss: 0.8136 - val_MeanSquaredLogarithmicError: 0.1648 - val_loss: 0.9581\n",
      "Epoch 31/100\n",
      "\u001b[1m37/37\u001b[0m \u001b[32m━━━━━━━━━━━━━━━━━━━━\u001b[0m\u001b[37m\u001b[0m \u001b[1m0s\u001b[0m 4ms/step - MeanSquaredLogarithmicError: 0.1330 - loss: 0.7828 - val_MeanSquaredLogarithmicError: 0.1618 - val_loss: 0.9651\n",
      "Epoch 32/100\n",
      "\u001b[1m37/37\u001b[0m \u001b[32m━━━━━━━━━━━━━━━━━━━━\u001b[0m\u001b[37m\u001b[0m \u001b[1m0s\u001b[0m 4ms/step - MeanSquaredLogarithmicError: 0.1426 - loss: 0.8224 - val_MeanSquaredLogarithmicError: 0.1634 - val_loss: 0.9579\n",
      "Epoch 33/100\n",
      "\u001b[1m37/37\u001b[0m \u001b[32m━━━━━━━━━━━━━━━━━━━━\u001b[0m\u001b[37m\u001b[0m \u001b[1m0s\u001b[0m 4ms/step - MeanSquaredLogarithmicError: 0.1366 - loss: 0.7554 - val_MeanSquaredLogarithmicError: 0.1644 - val_loss: 0.9555\n",
      "Epoch 34/100\n",
      "\u001b[1m37/37\u001b[0m \u001b[32m━━━━━━━━━━━━━━━━━━━━\u001b[0m\u001b[37m\u001b[0m \u001b[1m0s\u001b[0m 4ms/step - MeanSquaredLogarithmicError: 0.1538 - loss: 0.8333 - val_MeanSquaredLogarithmicError: 0.1629 - val_loss: 0.9584\n",
      "Epoch 35/100\n",
      "\u001b[1m37/37\u001b[0m \u001b[32m━━━━━━━━━━━━━━━━━━━━\u001b[0m\u001b[37m\u001b[0m \u001b[1m0s\u001b[0m 4ms/step - MeanSquaredLogarithmicError: 0.1429 - loss: 0.7705 - val_MeanSquaredLogarithmicError: 0.1641 - val_loss: 0.9589\n",
      "Epoch 36/100\n",
      "\u001b[1m37/37\u001b[0m \u001b[32m━━━━━━━━━━━━━━━━━━━━\u001b[0m\u001b[37m\u001b[0m \u001b[1m0s\u001b[0m 3ms/step - MeanSquaredLogarithmicError: 0.1531 - loss: 0.8332 - val_MeanSquaredLogarithmicError: 0.1635 - val_loss: 0.9595\n",
      "Epoch 37/100\n",
      "\u001b[1m37/37\u001b[0m \u001b[32m━━━━━━━━━━━━━━━━━━━━\u001b[0m\u001b[37m\u001b[0m \u001b[1m0s\u001b[0m 4ms/step - MeanSquaredLogarithmicError: 0.1386 - loss: 0.7613 - val_MeanSquaredLogarithmicError: 0.1645 - val_loss: 0.9622\n",
      "Epoch 38/100\n",
      "\u001b[1m37/37\u001b[0m \u001b[32m━━━━━━━━━━━━━━━━━━━━\u001b[0m\u001b[37m\u001b[0m \u001b[1m0s\u001b[0m 4ms/step - MeanSquaredLogarithmicError: 0.1608 - loss: 0.8883 - val_MeanSquaredLogarithmicError: 0.1598 - val_loss: 0.9621\n",
      "Epoch 39/100\n",
      "\u001b[1m37/37\u001b[0m \u001b[32m━━━━━━━━━━━━━━━━━━━━\u001b[0m\u001b[37m\u001b[0m \u001b[1m0s\u001b[0m 5ms/step - MeanSquaredLogarithmicError: 0.1567 - loss: 0.8531 - val_MeanSquaredLogarithmicError: 0.1621 - val_loss: 0.9568\n",
      "Epoch 40/100\n",
      "\u001b[1m37/37\u001b[0m \u001b[32m━━━━━━━━━━━━━━━━━━━━\u001b[0m\u001b[37m\u001b[0m \u001b[1m0s\u001b[0m 4ms/step - MeanSquaredLogarithmicError: 0.1421 - loss: 0.8101 - val_MeanSquaredLogarithmicError: 0.1599 - val_loss: 0.9602\n",
      "Epoch 41/100\n",
      "\u001b[1m37/37\u001b[0m \u001b[32m━━━━━━━━━━━━━━━━━━━━\u001b[0m\u001b[37m\u001b[0m \u001b[1m0s\u001b[0m 4ms/step - MeanSquaredLogarithmicError: 0.1613 - loss: 0.8829 - val_MeanSquaredLogarithmicError: 0.1631 - val_loss: 0.9651\n",
      "Epoch 42/100\n",
      "\u001b[1m37/37\u001b[0m \u001b[32m━━━━━━━━━━━━━━━━━━━━\u001b[0m\u001b[37m\u001b[0m \u001b[1m0s\u001b[0m 4ms/step - MeanSquaredLogarithmicError: 0.1297 - loss: 0.7156 - val_MeanSquaredLogarithmicError: 0.1614 - val_loss: 0.9527\n",
      "Epoch 43/100\n",
      "\u001b[1m37/37\u001b[0m \u001b[32m━━━━━━━━━━━━━━━━━━━━\u001b[0m\u001b[37m\u001b[0m \u001b[1m0s\u001b[0m 3ms/step - MeanSquaredLogarithmicError: 0.1473 - loss: 0.7753 - val_MeanSquaredLogarithmicError: 0.1618 - val_loss: 0.9503\n",
      "Epoch 44/100\n",
      "\u001b[1m37/37\u001b[0m \u001b[32m━━━━━━━━━━━━━━━━━━━━\u001b[0m\u001b[37m\u001b[0m \u001b[1m0s\u001b[0m 3ms/step - MeanSquaredLogarithmicError: 0.1671 - loss: 0.9087 - val_MeanSquaredLogarithmicError: 0.1594 - val_loss: 0.9578\n",
      "Epoch 45/100\n",
      "\u001b[1m37/37\u001b[0m \u001b[32m━━━━━━━━━━━━━━━━━━━━\u001b[0m\u001b[37m\u001b[0m \u001b[1m0s\u001b[0m 4ms/step - MeanSquaredLogarithmicError: 0.1385 - loss: 0.7778 - val_MeanSquaredLogarithmicError: 0.1608 - val_loss: 0.9532\n",
      "Epoch 46/100\n",
      "\u001b[1m37/37\u001b[0m \u001b[32m━━━━━━━━━━━━━━━━━━━━\u001b[0m\u001b[37m\u001b[0m \u001b[1m0s\u001b[0m 4ms/step - MeanSquaredLogarithmicError: 0.1396 - loss: 0.7450 - val_MeanSquaredLogarithmicError: 0.1635 - val_loss: 0.9621\n",
      "Epoch 47/100\n",
      "\u001b[1m37/37\u001b[0m \u001b[32m━━━━━━━━━━━━━━━━━━━━\u001b[0m\u001b[37m\u001b[0m \u001b[1m0s\u001b[0m 3ms/step - MeanSquaredLogarithmicError: 0.1676 - loss: 0.8667 - val_MeanSquaredLogarithmicError: 0.1610 - val_loss: 0.9542\n",
      "Epoch 48/100\n",
      "\u001b[1m37/37\u001b[0m \u001b[32m━━━━━━━━━━━━━━━━━━━━\u001b[0m\u001b[37m\u001b[0m \u001b[1m0s\u001b[0m 3ms/step - MeanSquaredLogarithmicError: 0.1503 - loss: 0.8161 - val_MeanSquaredLogarithmicError: 0.1579 - val_loss: 0.9480\n",
      "Epoch 49/100\n",
      "\u001b[1m37/37\u001b[0m \u001b[32m━━━━━━━━━━━━━━━━━━━━\u001b[0m\u001b[37m\u001b[0m \u001b[1m0s\u001b[0m 3ms/step - MeanSquaredLogarithmicError: 0.1314 - loss: 0.7173 - val_MeanSquaredLogarithmicError: 0.1608 - val_loss: 0.9490\n",
      "Epoch 50/100\n",
      "\u001b[1m37/37\u001b[0m \u001b[32m━━━━━━━━━━━━━━━━━━━━\u001b[0m\u001b[37m\u001b[0m \u001b[1m0s\u001b[0m 3ms/step - MeanSquaredLogarithmicError: 0.1333 - loss: 0.7724 - val_MeanSquaredLogarithmicError: 0.1599 - val_loss: 0.9686\n",
      "Epoch 51/100\n",
      "\u001b[1m37/37\u001b[0m \u001b[32m━━━━━━━━━━━━━━━━━━━━\u001b[0m\u001b[37m\u001b[0m \u001b[1m0s\u001b[0m 3ms/step - MeanSquaredLogarithmicError: 0.1402 - loss: 0.8217 - val_MeanSquaredLogarithmicError: 0.1597 - val_loss: 0.9648\n",
      "Epoch 52/100\n",
      "\u001b[1m37/37\u001b[0m \u001b[32m━━━━━━━━━━━━━━━━━━━━\u001b[0m\u001b[37m\u001b[0m \u001b[1m0s\u001b[0m 3ms/step - MeanSquaredLogarithmicError: 0.1338 - loss: 0.7688 - val_MeanSquaredLogarithmicError: 0.1581 - val_loss: 0.9545\n",
      "Epoch 53/100\n",
      "\u001b[1m37/37\u001b[0m \u001b[32m━━━━━━━━━━━━━━━━━━━━\u001b[0m\u001b[37m\u001b[0m \u001b[1m0s\u001b[0m 3ms/step - MeanSquaredLogarithmicError: 0.1446 - loss: 0.7492 - val_MeanSquaredLogarithmicError: 0.1624 - val_loss: 0.9504\n",
      "Epoch 54/100\n",
      "\u001b[1m37/37\u001b[0m \u001b[32m━━━━━━━━━━━━━━━━━━━━\u001b[0m\u001b[37m\u001b[0m \u001b[1m0s\u001b[0m 4ms/step - MeanSquaredLogarithmicError: 0.1344 - loss: 0.7425 - val_MeanSquaredLogarithmicError: 0.1602 - val_loss: 0.9559\n",
      "Epoch 55/100\n",
      "\u001b[1m37/37\u001b[0m \u001b[32m━━━━━━━━━━━━━━━━━━━━\u001b[0m\u001b[37m\u001b[0m \u001b[1m0s\u001b[0m 4ms/step - MeanSquaredLogarithmicError: 0.1347 - loss: 0.7700 - val_MeanSquaredLogarithmicError: 0.1587 - val_loss: 0.9535\n",
      "Epoch 56/100\n",
      "\u001b[1m37/37\u001b[0m \u001b[32m━━━━━━━━━━━━━━━━━━━━\u001b[0m\u001b[37m\u001b[0m \u001b[1m0s\u001b[0m 3ms/step - MeanSquaredLogarithmicError: 0.1349 - loss: 0.7615 - val_MeanSquaredLogarithmicError: 0.1603 - val_loss: 0.9676\n",
      "Epoch 57/100\n",
      "\u001b[1m37/37\u001b[0m \u001b[32m━━━━━━━━━━━━━━━━━━━━\u001b[0m\u001b[37m\u001b[0m \u001b[1m0s\u001b[0m 3ms/step - MeanSquaredLogarithmicError: 0.1828 - loss: 0.9680 - val_MeanSquaredLogarithmicError: 0.1625 - val_loss: 0.9570\n",
      "Epoch 58/100\n",
      "\u001b[1m37/37\u001b[0m \u001b[32m━━━━━━━━━━━━━━━━━━━━\u001b[0m\u001b[37m\u001b[0m \u001b[1m0s\u001b[0m 3ms/step - MeanSquaredLogarithmicError: 0.1239 - loss: 0.7083 - val_MeanSquaredLogarithmicError: 0.1592 - val_loss: 0.9686\n",
      "Epoch 59/100\n",
      "\u001b[1m37/37\u001b[0m \u001b[32m━━━━━━━━━━━━━━━━━━━━\u001b[0m\u001b[37m\u001b[0m \u001b[1m0s\u001b[0m 3ms/step - MeanSquaredLogarithmicError: 0.1589 - loss: 0.8975 - val_MeanSquaredLogarithmicError: 0.1612 - val_loss: 0.9610\n",
      "Epoch 60/100\n",
      "\u001b[1m37/37\u001b[0m \u001b[32m━━━━━━━━━━━━━━━━━━━━\u001b[0m\u001b[37m\u001b[0m \u001b[1m0s\u001b[0m 3ms/step - MeanSquaredLogarithmicError: 0.1620 - loss: 0.8135 - val_MeanSquaredLogarithmicError: 0.1607 - val_loss: 0.9568\n",
      "Epoch 61/100\n",
      "\u001b[1m37/37\u001b[0m \u001b[32m━━━━━━━━━━━━━━━━━━━━\u001b[0m\u001b[37m\u001b[0m \u001b[1m0s\u001b[0m 4ms/step - MeanSquaredLogarithmicError: 0.1382 - loss: 0.7796 - val_MeanSquaredLogarithmicError: 0.1593 - val_loss: 0.9647\n",
      "Epoch 62/100\n",
      "\u001b[1m37/37\u001b[0m \u001b[32m━━━━━━━━━━━━━━━━━━━━\u001b[0m\u001b[37m\u001b[0m \u001b[1m0s\u001b[0m 3ms/step - MeanSquaredLogarithmicError: 0.1762 - loss: 0.9202 - val_MeanSquaredLogarithmicError: 0.1603 - val_loss: 0.9576\n",
      "Epoch 63/100\n",
      "\u001b[1m37/37\u001b[0m \u001b[32m━━━━━━━━━━━━━━━━━━━━\u001b[0m\u001b[37m\u001b[0m \u001b[1m0s\u001b[0m 3ms/step - MeanSquaredLogarithmicError: 0.1669 - loss: 0.8944 - val_MeanSquaredLogarithmicError: 0.1615 - val_loss: 0.9682\n",
      "Epoch 64/100\n",
      "\u001b[1m37/37\u001b[0m \u001b[32m━━━━━━━━━━━━━━━━━━━━\u001b[0m\u001b[37m\u001b[0m \u001b[1m0s\u001b[0m 3ms/step - MeanSquaredLogarithmicError: 0.1787 - loss: 0.9100 - val_MeanSquaredLogarithmicError: 0.1614 - val_loss: 0.9661\n",
      "Epoch 65/100\n",
      "\u001b[1m37/37\u001b[0m \u001b[32m━━━━━━━━━━━━━━━━━━━━\u001b[0m\u001b[37m\u001b[0m \u001b[1m0s\u001b[0m 3ms/step - MeanSquaredLogarithmicError: 0.1753 - loss: 0.9172 - val_MeanSquaredLogarithmicError: 0.1626 - val_loss: 0.9576\n",
      "Epoch 66/100\n",
      "\u001b[1m37/37\u001b[0m \u001b[32m━━━━━━━━━━━━━━━━━━━━\u001b[0m\u001b[37m\u001b[0m \u001b[1m0s\u001b[0m 3ms/step - MeanSquaredLogarithmicError: 0.1306 - loss: 0.7041 - val_MeanSquaredLogarithmicError: 0.1583 - val_loss: 0.9590\n",
      "Epoch 67/100\n",
      "\u001b[1m37/37\u001b[0m \u001b[32m━━━━━━━━━━━━━━━━━━━━\u001b[0m\u001b[37m\u001b[0m \u001b[1m0s\u001b[0m 4ms/step - MeanSquaredLogarithmicError: 0.1381 - loss: 0.7731 - val_MeanSquaredLogarithmicError: 0.1605 - val_loss: 0.9723\n",
      "Epoch 68/100\n",
      "\u001b[1m37/37\u001b[0m \u001b[32m━━━━━━━━━━━━━━━━━━━━\u001b[0m\u001b[37m\u001b[0m \u001b[1m0s\u001b[0m 4ms/step - MeanSquaredLogarithmicError: 0.1659 - loss: 0.8676 - val_MeanSquaredLogarithmicError: 0.1619 - val_loss: 0.9619\n",
      "Epoch 69/100\n",
      "\u001b[1m37/37\u001b[0m \u001b[32m━━━━━━━━━━━━━━━━━━━━\u001b[0m\u001b[37m\u001b[0m \u001b[1m0s\u001b[0m 3ms/step - MeanSquaredLogarithmicError: 0.1431 - loss: 0.7771 - val_MeanSquaredLogarithmicError: 0.1604 - val_loss: 0.9677\n",
      "Epoch 70/100\n",
      "\u001b[1m37/37\u001b[0m \u001b[32m━━━━━━━━━━━━━━━━━━━━\u001b[0m\u001b[37m\u001b[0m \u001b[1m0s\u001b[0m 3ms/step - MeanSquaredLogarithmicError: 0.1461 - loss: 0.7664 - val_MeanSquaredLogarithmicError: 0.1595 - val_loss: 0.9582\n",
      "Epoch 71/100\n",
      "\u001b[1m37/37\u001b[0m \u001b[32m━━━━━━━━━━━━━━━━━━━━\u001b[0m\u001b[37m\u001b[0m \u001b[1m0s\u001b[0m 4ms/step - MeanSquaredLogarithmicError: 0.1823 - loss: 0.9782 - val_MeanSquaredLogarithmicError: 0.1629 - val_loss: 0.9614\n",
      "Epoch 72/100\n",
      "\u001b[1m37/37\u001b[0m \u001b[32m━━━━━━━━━━━━━━━━━━━━\u001b[0m\u001b[37m\u001b[0m \u001b[1m0s\u001b[0m 4ms/step - MeanSquaredLogarithmicError: 0.1537 - loss: 0.8119 - val_MeanSquaredLogarithmicError: 0.1605 - val_loss: 0.9643\n",
      "Epoch 73/100\n",
      "\u001b[1m37/37\u001b[0m \u001b[32m━━━━━━━━━━━━━━━━━━━━\u001b[0m\u001b[37m\u001b[0m \u001b[1m0s\u001b[0m 3ms/step - MeanSquaredLogarithmicError: 0.1538 - loss: 0.8039 - val_MeanSquaredLogarithmicError: 0.1616 - val_loss: 0.9595\n",
      "Epoch 74/100\n",
      "\u001b[1m37/37\u001b[0m \u001b[32m━━━━━━━━━━━━━━━━━━━━\u001b[0m\u001b[37m\u001b[0m \u001b[1m0s\u001b[0m 4ms/step - MeanSquaredLogarithmicError: 0.1594 - loss: 0.8118 - val_MeanSquaredLogarithmicError: 0.1599 - val_loss: 0.9583\n",
      "Epoch 75/100\n",
      "\u001b[1m37/37\u001b[0m \u001b[32m━━━━━━━━━━━━━━━━━━━━\u001b[0m\u001b[37m\u001b[0m \u001b[1m0s\u001b[0m 4ms/step - MeanSquaredLogarithmicError: 0.1855 - loss: 0.9695 - val_MeanSquaredLogarithmicError: 0.1621 - val_loss: 0.9695\n",
      "Epoch 76/100\n",
      "\u001b[1m37/37\u001b[0m \u001b[32m━━━━━━━━━━━━━━━━━━━━\u001b[0m\u001b[37m\u001b[0m \u001b[1m0s\u001b[0m 4ms/step - MeanSquaredLogarithmicError: 0.1493 - loss: 0.7867 - val_MeanSquaredLogarithmicError: 0.1616 - val_loss: 0.9548\n",
      "Epoch 77/100\n",
      "\u001b[1m37/37\u001b[0m \u001b[32m━━━━━━━━━━━━━━━━━━━━\u001b[0m\u001b[37m\u001b[0m \u001b[1m0s\u001b[0m 4ms/step - MeanSquaredLogarithmicError: 0.1490 - loss: 0.7975 - val_MeanSquaredLogarithmicError: 0.1587 - val_loss: 0.9565\n",
      "Epoch 78/100\n",
      "\u001b[1m37/37\u001b[0m \u001b[32m━━━━━━━━━━━━━━━━━━━━\u001b[0m\u001b[37m\u001b[0m \u001b[1m0s\u001b[0m 4ms/step - MeanSquaredLogarithmicError: 0.1678 - loss: 0.8988 - val_MeanSquaredLogarithmicError: 0.1630 - val_loss: 0.9672\n",
      "Epoch 79/100\n",
      "\u001b[1m37/37\u001b[0m \u001b[32m━━━━━━━━━━━━━━━━━━━━\u001b[0m\u001b[37m\u001b[0m \u001b[1m0s\u001b[0m 3ms/step - MeanSquaredLogarithmicError: 0.1588 - loss: 0.8747 - val_MeanSquaredLogarithmicError: 0.1607 - val_loss: 0.9709\n",
      "Epoch 80/100\n",
      "\u001b[1m37/37\u001b[0m \u001b[32m━━━━━━━━━━━━━━━━━━━━\u001b[0m\u001b[37m\u001b[0m \u001b[1m0s\u001b[0m 5ms/step - MeanSquaredLogarithmicError: 0.1412 - loss: 0.7742 - val_MeanSquaredLogarithmicError: 0.1589 - val_loss: 0.9588\n",
      "Epoch 81/100\n",
      "\u001b[1m37/37\u001b[0m \u001b[32m━━━━━━━━━━━━━━━━━━━━\u001b[0m\u001b[37m\u001b[0m \u001b[1m0s\u001b[0m 3ms/step - MeanSquaredLogarithmicError: 0.1321 - loss: 0.7671 - val_MeanSquaredLogarithmicError: 0.1586 - val_loss: 0.9617\n",
      "Epoch 82/100\n",
      "\u001b[1m37/37\u001b[0m \u001b[32m━━━━━━━━━━━━━━━━━━━━\u001b[0m\u001b[37m\u001b[0m \u001b[1m0s\u001b[0m 3ms/step - MeanSquaredLogarithmicError: 0.1569 - loss: 0.8739 - val_MeanSquaredLogarithmicError: 0.1634 - val_loss: 0.9587\n",
      "Epoch 83/100\n",
      "\u001b[1m37/37\u001b[0m \u001b[32m━━━━━━━━━━━━━━━━━━━━\u001b[0m\u001b[37m\u001b[0m \u001b[1m0s\u001b[0m 4ms/step - MeanSquaredLogarithmicError: 0.1556 - loss: 0.7732 - val_MeanSquaredLogarithmicError: 0.1596 - val_loss: 0.9568\n",
      "Epoch 84/100\n",
      "\u001b[1m37/37\u001b[0m \u001b[32m━━━━━━━━━━━━━━━━━━━━\u001b[0m\u001b[37m\u001b[0m \u001b[1m0s\u001b[0m 4ms/step - MeanSquaredLogarithmicError: 0.1290 - loss: 0.6970 - val_MeanSquaredLogarithmicError: 0.1587 - val_loss: 0.9595\n",
      "Epoch 85/100\n",
      "\u001b[1m37/37\u001b[0m \u001b[32m━━━━━━━━━━━━━━━━━━━━\u001b[0m\u001b[37m\u001b[0m \u001b[1m0s\u001b[0m 4ms/step - MeanSquaredLogarithmicError: 0.1075 - loss: 0.6948 - val_MeanSquaredLogarithmicError: 0.1583 - val_loss: 0.9633\n",
      "Epoch 86/100\n",
      "\u001b[1m37/37\u001b[0m \u001b[32m━━━━━━━━━━━━━━━━━━━━\u001b[0m\u001b[37m\u001b[0m \u001b[1m0s\u001b[0m 3ms/step - MeanSquaredLogarithmicError: 0.1529 - loss: 0.8390 - val_MeanSquaredLogarithmicError: 0.1620 - val_loss: 0.9728\n",
      "Epoch 87/100\n",
      "\u001b[1m37/37\u001b[0m \u001b[32m━━━━━━━━━━━━━━━━━━━━\u001b[0m\u001b[37m\u001b[0m \u001b[1m0s\u001b[0m 4ms/step - MeanSquaredLogarithmicError: 0.1748 - loss: 0.9463 - val_MeanSquaredLogarithmicError: 0.1603 - val_loss: 0.9600\n",
      "Epoch 88/100\n",
      "\u001b[1m37/37\u001b[0m \u001b[32m━━━━━━━━━━━━━━━━━━━━\u001b[0m\u001b[37m\u001b[0m \u001b[1m0s\u001b[0m 4ms/step - MeanSquaredLogarithmicError: 0.1474 - loss: 0.8258 - val_MeanSquaredLogarithmicError: 0.1604 - val_loss: 0.9636\n",
      "Epoch 89/100\n",
      "\u001b[1m37/37\u001b[0m \u001b[32m━━━━━━━━━━━━━━━━━━━━\u001b[0m\u001b[37m\u001b[0m \u001b[1m0s\u001b[0m 4ms/step - MeanSquaredLogarithmicError: 0.1588 - loss: 0.8189 - val_MeanSquaredLogarithmicError: 0.1602 - val_loss: 0.9596\n",
      "Epoch 90/100\n",
      "\u001b[1m37/37\u001b[0m \u001b[32m━━━━━━━━━━━━━━━━━━━━\u001b[0m\u001b[37m\u001b[0m \u001b[1m0s\u001b[0m 4ms/step - MeanSquaredLogarithmicError: 0.1520 - loss: 0.8417 - val_MeanSquaredLogarithmicError: 0.1605 - val_loss: 0.9568\n",
      "Epoch 91/100\n",
      "\u001b[1m37/37\u001b[0m \u001b[32m━━━━━━━━━━━━━━━━━━━━\u001b[0m\u001b[37m\u001b[0m \u001b[1m0s\u001b[0m 4ms/step - MeanSquaredLogarithmicError: 0.1536 - loss: 0.8139 - val_MeanSquaredLogarithmicError: 0.1613 - val_loss: 0.9710\n",
      "Epoch 92/100\n",
      "\u001b[1m37/37\u001b[0m \u001b[32m━━━━━━━━━━━━━━━━━━━━\u001b[0m\u001b[37m\u001b[0m \u001b[1m0s\u001b[0m 4ms/step - MeanSquaredLogarithmicError: 0.1671 - loss: 0.8684 - val_MeanSquaredLogarithmicError: 0.1625 - val_loss: 0.9640\n",
      "Epoch 93/100\n",
      "\u001b[1m37/37\u001b[0m \u001b[32m━━━━━━━━━━━━━━━━━━━━\u001b[0m\u001b[37m\u001b[0m \u001b[1m0s\u001b[0m 4ms/step - MeanSquaredLogarithmicError: 0.1381 - loss: 0.7776 - val_MeanSquaredLogarithmicError: 0.1594 - val_loss: 0.9773\n",
      "Epoch 94/100\n",
      "\u001b[1m37/37\u001b[0m \u001b[32m━━━━━━━━━━━━━━━━━━━━\u001b[0m\u001b[37m\u001b[0m \u001b[1m0s\u001b[0m 4ms/step - MeanSquaredLogarithmicError: 0.1373 - loss: 0.7985 - val_MeanSquaredLogarithmicError: 0.1600 - val_loss: 0.9611\n",
      "Epoch 95/100\n",
      "\u001b[1m37/37\u001b[0m \u001b[32m━━━━━━━━━━━━━━━━━━━━\u001b[0m\u001b[37m\u001b[0m \u001b[1m0s\u001b[0m 4ms/step - MeanSquaredLogarithmicError: 0.1434 - loss: 0.7664 - val_MeanSquaredLogarithmicError: 0.1608 - val_loss: 0.9563\n",
      "Epoch 96/100\n",
      "\u001b[1m37/37\u001b[0m \u001b[32m━━━━━━━━━━━━━━━━━━━━\u001b[0m\u001b[37m\u001b[0m \u001b[1m0s\u001b[0m 4ms/step - MeanSquaredLogarithmicError: 0.1720 - loss: 0.8988 - val_MeanSquaredLogarithmicError: 0.1612 - val_loss: 0.9655\n",
      "Epoch 97/100\n",
      "\u001b[1m37/37\u001b[0m \u001b[32m━━━━━━━━━━━━━━━━━━━━\u001b[0m\u001b[37m\u001b[0m \u001b[1m0s\u001b[0m 4ms/step - MeanSquaredLogarithmicError: 0.1410 - loss: 0.7924 - val_MeanSquaredLogarithmicError: 0.1595 - val_loss: 0.9673\n",
      "Epoch 98/100\n",
      "\u001b[1m37/37\u001b[0m \u001b[32m━━━━━━━━━━━━━━━━━━━━\u001b[0m\u001b[37m\u001b[0m \u001b[1m0s\u001b[0m 4ms/step - MeanSquaredLogarithmicError: 0.1541 - loss: 0.8523 - val_MeanSquaredLogarithmicError: 0.1619 - val_loss: 0.9679\n",
      "Epoch 99/100\n",
      "\u001b[1m37/37\u001b[0m \u001b[32m━━━━━━━━━━━━━━━━━━━━\u001b[0m\u001b[37m\u001b[0m \u001b[1m0s\u001b[0m 3ms/step - MeanSquaredLogarithmicError: 0.1267 - loss: 0.7266 - val_MeanSquaredLogarithmicError: 0.1581 - val_loss: 0.9712\n",
      "Epoch 100/100\n",
      "\u001b[1m37/37\u001b[0m \u001b[32m━━━━━━━━━━━━━━━━━━━━\u001b[0m\u001b[37m\u001b[0m \u001b[1m0s\u001b[0m 4ms/step - MeanSquaredLogarithmicError: 0.1267 - loss: 0.7152 - val_MeanSquaredLogarithmicError: 0.1594 - val_loss: 0.9552\n"
     ]
    }
   ],
   "source": [
    "# Fitting the ANN to the Training set\n",
    "model_hist = model.fit(X_train, y_train ,batch_size = 8, epochs = 100, verbose=1, validation_data=(X_test, y_test),\n",
    "              shuffle=True)"
   ]
  },
  {
   "cell_type": "code",
   "execution_count": 99,
   "metadata": {},
   "outputs": [
    {
     "name": "stdout",
     "output_type": "stream",
     "text": [
      "\u001b[1m37/37\u001b[0m \u001b[32m━━━━━━━━━━━━━━━━━━━━\u001b[0m\u001b[37m\u001b[0m \u001b[1m0s\u001b[0m 626us/step\n",
      "[[-0.37 -1.48]\n",
      " [ 0.42 -1.16]\n",
      " [ 0.88  2.48]\n",
      " ...\n",
      " [ 0.37 -0.07]\n",
      " [-0.17 -1.23]\n",
      " [-0.1   0.21]]\n"
     ]
    }
   ],
   "source": [
    "y_pred = model.predict(X_test)\n",
    "np.set_printoptions(precision=2)\n",
    "print(np.concatenate((y_pred.reshape(len(y_pred),1), y_test.reshape(len(y_test),1)),1))"
   ]
  },
  {
   "cell_type": "code",
   "execution_count": 104,
   "metadata": {},
   "outputs": [
    {
     "name": "stdout",
     "output_type": "stream",
     "text": [
      "The Accuracy of ANN model is: 92.39554814611995\n"
     ]
    }
   ],
   "source": [
    "# Computing the absolute percent error\n",
    "APE=100*(abs((y_test + 10) - (y_pred + 10))/(y_test + 10))\n",
    "# TestingData['APE']=APE\n",
    " \n",
    "print('The Accuracy of ANN model is:', 100-np.mean(APE))"
   ]
  },
  {
   "cell_type": "code",
   "execution_count": 89,
   "metadata": {},
   "outputs": [
    {
     "name": "stdout",
     "output_type": "stream",
     "text": [
      "\u001b[1m37/37\u001b[0m \u001b[32m━━━━━━━━━━━━━━━━━━━━\u001b[0m\u001b[37m\u001b[0m \u001b[1m0s\u001b[0m 651us/step\n",
      "\u001b[1m37/37\u001b[0m \u001b[32m━━━━━━━━━━━━━━━━━━━━\u001b[0m\u001b[37m\u001b[0m \u001b[1m0s\u001b[0m 630us/step\n",
      "\u001b[1m37/37\u001b[0m \u001b[32m━━━━━━━━━━━━━━━━━━━━\u001b[0m\u001b[37m\u001b[0m \u001b[1m0s\u001b[0m 1ms/step \n",
      "\u001b[1m37/37\u001b[0m \u001b[32m━━━━━━━━━━━━━━━━━━━━\u001b[0m\u001b[37m\u001b[0m \u001b[1m0s\u001b[0m 851us/step\n",
      "\u001b[1m37/37\u001b[0m \u001b[32m━━━━━━━━━━━━━━━━━━━━\u001b[0m\u001b[37m\u001b[0m \u001b[1m0s\u001b[0m 905us/step\n",
      "\u001b[1m37/37\u001b[0m \u001b[32m━━━━━━━━━━━━━━━━━━━━\u001b[0m\u001b[37m\u001b[0m \u001b[1m0s\u001b[0m 395us/step\n",
      "\u001b[1m37/37\u001b[0m \u001b[32m━━━━━━━━━━━━━━━━━━━━\u001b[0m\u001b[37m\u001b[0m \u001b[1m0s\u001b[0m 924us/step\n"
     ]
    }
   ],
   "source": [
    "import sklearn.metrics\n",
    "ann = model\n",
    "evs_no=sklearn.metrics.explained_variance_score(y_test,ann.predict(X_test))\n",
    "me_no=sklearn.metrics.max_error(y_test,ann.predict(X_test))\n",
    "mae_no=sklearn.metrics.mean_absolute_error(y_test,ann.predict(X_test))\n",
    "mse_no=sklearn.metrics.mean_squared_error(y_test,ann.predict(X_test))\n",
    "# msle_no=sklearn.metrics.mean_squared_log_error(y_test,ann.predict(X_test))\n",
    "Mae_no=sklearn.metrics.median_absolute_error(y_test,ann.predict(X_test))\n",
    "r2_no=sklearn.metrics.r2_score(y_test,ann.predict(X_test))\n",
    "# mpd_no=sklearn.metrics.mean_poisson_deviance(y_test,ann.predict(X_test))\n",
    "# mgd_no=sklearn.metrics.mean_gamma_deviance(y_test,ann.predict(X_test))\n",
    "mtd_no=sklearn.metrics.mean_tweedie_deviance(y_test,ann.predict(X_test))"
   ]
  },
  {
   "cell_type": "code",
   "execution_count": 90,
   "metadata": {},
   "outputs": [
    {
     "name": "stdout",
     "output_type": "stream",
     "text": [
      "Explained Variance Score: 0.05141886822875408\n",
      "Max Error               : 3.2369190398688863\n",
      "Mean Absolute Error     : 0.7722446377733467\n",
      "Mean Square Error       : 0.9551540955350629\n",
      "Median Absolute Error   : 0.6480347304481744\n",
      "R2 Score                : 0.04824253523845823\n",
      "Mean Tweedie Deviance   : 0.9551540955350629\n"
     ]
    }
   ],
   "source": [
    "print('Explained Variance Score:',evs_no)\n",
    "print('Max Error               :',me_no)\n",
    "print('Mean Absolute Error     :',mae_no)\n",
    "print('Mean Square Error       :',mse_no)\n",
    "# print('Mean Squared Log Error  :',msle_no)\n",
    "print('Median Absolute Error   :',Mae_no)\n",
    "print('R2 Score                :',r2_no)\n",
    "# print('Mean Poisson Deviance   :',mpd_no)\n",
    "# print('Mean Gamma Deviance     :',mgd_no)\n",
    "print('Mean Tweedie Deviance   :',mtd_no)"
   ]
  },
  {
   "cell_type": "code",
   "execution_count": 92,
   "metadata": {},
   "outputs": [
    {
     "name": "stdout",
     "output_type": "stream",
     "text": [
      "dict_keys(['MeanSquaredLogarithmicError', 'loss', 'val_MeanSquaredLogarithmicError', 'val_loss'])\n"
     ]
    },
    {
     "data": {
      "image/png": "[encoded data removed]",
      "text/plain": [
       "<Figure size 1500x500 with 2 Axes>"
      ]
     },
     "metadata": {},
     "output_type": "display_data"
    }
   ],
   "source": [
    "# list all data in history\n",
    "print(model_hist.history.keys())\n",
    "\n",
    "plt.figure(figsize=(15,5))\n",
    "\n",
    "plt.subplot(1,2,1)\n",
    "plt.plot(model_hist.history['loss'])\n",
    "plt.plot(model_hist.history['val_loss'])\n",
    "# plt.grid()\n",
    "plt.title('Model loss')\n",
    "plt.ylabel('loss')\n",
    "plt.xlabel('epoch')\n",
    "plt.legend(['train', 'test'], loc='best')\n",
    "# plt.show()\n",
    "\n",
    "plt.subplot(1,2,2)\n",
    "# summarize history for loss\n",
    "plt.plot(model_hist.history['MeanSquaredLogarithmicError'])\n",
    "plt.plot(model_hist.history['val_MeanSquaredLogarithmicError'])\n",
    "# plt.grid()\n",
    "plt.title('model Mean Squared Logarithmic Error')\n",
    "plt.ylabel('mean_squared_logarithmic_error')\n",
    "plt.xlabel('epoch')\n",
    "plt.legend(['train', 'test'], loc='best')\n",
    "plt.show()"
   ]
  },
  {
   "cell_type": "code",
   "execution_count": 93,
   "metadata": {},
   "outputs": [],
   "source": [
    "import keras\n",
    "model.save(\"ann_generation.keras\")\n",
    "loaded_model = keras.saving.load_model(\"ann_generation.keras\")"
   ]
  },
  {
   "cell_type": "code",
   "execution_count": 94,
   "metadata": {},
   "outputs": [
    {
     "name": "stdout",
     "output_type": "stream",
     "text": [
      "\u001b[1m37/37\u001b[0m \u001b[32m━━━━━━━━━━━━━━━━━━━━\u001b[0m\u001b[37m\u001b[0m \u001b[1m0s\u001b[0m 2ms/step\n",
      "[[-0.37 -1.48]\n",
      " [ 0.42 -1.16]\n",
      " [ 0.88  2.48]\n",
      " ...\n",
      " [ 0.37 -0.07]\n",
      " [-0.17 -1.23]\n",
      " [-0.1   0.21]]\n"
     ]
    }
   ],
   "source": [
    "y_pred = loaded_model.predict(X_test)\n",
    "np.set_printoptions(precision=2)\n",
    "print(np.concatenate((y_pred.reshape(len(y_pred),1), y_test.reshape(len(y_test),1)),1))"
   ]
  },
  {
   "cell_type": "code",
   "execution_count": 96,
   "metadata": {},
   "outputs": [
    {
     "name": "stdout",
     "output_type": "stream",
     "text": [
      "\u001b[1m37/37\u001b[0m \u001b[32m━━━━━━━━━━━━━━━━━━━━\u001b[0m\u001b[37m\u001b[0m \u001b[1m0s\u001b[0m 801us/step\n",
      "\u001b[1m37/37\u001b[0m \u001b[32m━━━━━━━━━━━━━━━━━━━━\u001b[0m\u001b[37m\u001b[0m \u001b[1m0s\u001b[0m 380us/step\n",
      "\u001b[1m37/37\u001b[0m \u001b[32m━━━━━━━━━━━━━━━━━━━━\u001b[0m\u001b[37m\u001b[0m \u001b[1m0s\u001b[0m 917us/step\n",
      "\u001b[1m37/37\u001b[0m \u001b[32m━━━━━━━━━━━━━━━━━━━━\u001b[0m\u001b[37m\u001b[0m \u001b[1m0s\u001b[0m 885us/step\n",
      "\u001b[1m37/37\u001b[0m \u001b[32m━━━━━━━━━━━━━━━━━━━━\u001b[0m\u001b[37m\u001b[0m \u001b[1m0s\u001b[0m 706us/step\n",
      "\u001b[1m37/37\u001b[0m \u001b[32m━━━━━━━━━━━━━━━━━━━━\u001b[0m\u001b[37m\u001b[0m \u001b[1m0s\u001b[0m 398us/step\n",
      "\u001b[1m37/37\u001b[0m \u001b[32m━━━━━━━━━━━━━━━━━━━━\u001b[0m\u001b[37m\u001b[0m \u001b[1m0s\u001b[0m 778us/step\n"
     ]
    }
   ],
   "source": [
    "import sklearn.metrics\n",
    "ann = loaded_model\n",
    "evs_no=sklearn.metrics.explained_variance_score(y_test,ann.predict(X_test))\n",
    "me_no=sklearn.metrics.max_error(y_test,ann.predict(X_test))\n",
    "mae_no=sklearn.metrics.mean_absolute_error(y_test,ann.predict(X_test))\n",
    "mse_no=sklearn.metrics.mean_squared_error(y_test,ann.predict(X_test))\n",
    "# msle_no=sklearn.metrics.mean_squared_log_error(y_test,ann.predict(X_test))\n",
    "Mae_no=sklearn.metrics.median_absolute_error(y_test,ann.predict(X_test))\n",
    "r2_no=sklearn.metrics.r2_score(y_test,ann.predict(X_test))\n",
    "# mpd_no=sklearn.metrics.mean_poisson_deviance(y_test,ann.predict(X_test))\n",
    "# mgd_no=sklearn.metrics.mean_gamma_deviance(y_test,ann.predict(X_test))\n",
    "mtd_no=sklearn.metrics.mean_tweedie_deviance(y_test,ann.predict(X_test))"
   ]
  },
  {
   "cell_type": "code",
   "execution_count": 97,
   "metadata": {},
   "outputs": [
    {
     "name": "stdout",
     "output_type": "stream",
     "text": [
      "Explained Variance Score: 0.05141886822875408\n",
      "Max Error               : 3.2369190398688863\n",
      "Mean Absolute Error     : 0.7722446377733467\n",
      "Mean Square Error       : 0.9551540955350629\n",
      "Median Absolute Error   : 0.6480347304481744\n",
      "R2 Score                : 0.04824253523845823\n",
      "Mean Tweedie Deviance   : 0.9551540955350629\n"
     ]
    }
   ],
   "source": [
    "print('Explained Variance Score:',evs_no)\n",
    "print('Max Error               :',me_no)\n",
    "print('Mean Absolute Error     :',mae_no)\n",
    "print('Mean Square Error       :',mse_no)\n",
    "# print('Mean Squared Log Error  :',msle_no)\n",
    "print('Median Absolute Error   :',Mae_no)\n",
    "print('R2 Score                :',r2_no)\n",
    "# print('Mean Poisson Deviance   :',mpd_no)\n",
    "# print('Mean Gamma Deviance     :',mgd_no)\n",
    "print('Mean Tweedie Deviance   :',mtd_no)"
   ]
  },
  {
   "cell_type": "code",
   "execution_count": null,
   "metadata": {},
   "outputs": [],
   "source": []
  }
 ],
 "metadata": {
  "kernelspec": {
   "display_name": "base",
   "language": "python",
   "name": "python3"
  },
  "language_info": {
   "codemirror_mode": {
    "name": "ipython",
    "version": 3
   },
   "file_extension": ".py",
   "mimetype": "text/x-python",
   "name": "python",
   "nbconvert_exporter": "python",
   "pygments_lexer": "ipython3",
   "version": "3.11.2"
  }
 },
 "nbformat": 4,
 "nbformat_minor": 2
}
